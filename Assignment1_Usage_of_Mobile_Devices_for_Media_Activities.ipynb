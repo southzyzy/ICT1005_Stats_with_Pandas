{
  "nbformat": 4,
  "nbformat_minor": 0,
  "metadata": {
    "colab": {
      "name": "Assignment1_Usage of Mobile Devices for Media Activities",
      "version": "0.3.2",
      "provenance": [],
      "collapsed_sections": [],
      "include_colab_link": true
    },
    "kernelspec": {
      "name": "python3",
      "display_name": "Python 3"
    }
  },
  "cells": [
    {
      "cell_type": "markdown",
      "metadata": {
        "id": "view-in-github",
        "colab_type": "text"
      },
      "source": [
        "<a href=\"https://colab.research.google.com/github/southzyzy/ICT1005_Stats_with_Pandas/blob/master/Assignment1_Usage_of_Mobile_Devices_for_Media_Activities.ipynb\" target=\"_parent\"><img src=\"https://colab.research.google.com/assets/colab-badge.svg\" alt=\"Open In Colab\"/></a>"
      ]
    },
    {
      "metadata": {
        "id": "zAWdnhAhoz5u",
        "colab_type": "text"
      },
      "cell_type": "markdown",
      "source": [
        "# Done By:\n",
        "\n",
        "---\n",
        "\n",
        "Tan Zhao Yea\n",
        "\n",
        "Stanley Cheong\n",
        "\n",
        "Elger Tay\n",
        "\n",
        "Lee Yi Yang\n",
        "\n",
        "Ong Weijie"
      ]
    },
    {
      "metadata": {
        "id": "c68-4Ob4WjND",
        "colab_type": "text"
      },
      "cell_type": "markdown",
      "source": [
        "# **STEP 2: START THE NOTEBOOK**\n",
        "\n",
        "---\n",
        "\n"
      ]
    },
    {
      "metadata": {
        "id": "k_CG6HtNkBOf",
        "colab_type": "code",
        "colab": {}
      },
      "cell_type": "code",
      "source": [
        "import pandas as pd\n",
        "import numpy as np"
      ],
      "execution_count": 0,
      "outputs": []
    },
    {
      "metadata": {
        "id": "qH_2A-s9kEPV",
        "colab_type": "code",
        "colab": {}
      },
      "cell_type": "code",
      "source": [
        "# import data from google drive\n",
        "from google.colab import drive\n",
        "drive.mount('/content/gdrive', force_remount= True)"
      ],
      "execution_count": 0,
      "outputs": []
    },
    {
      "metadata": {
        "id": "S78GwdnXkI5R",
        "colab_type": "code",
        "colab": {}
      },
      "cell_type": "code",
      "source": [
        "# read the csv file as a dataframe\n",
        "df = pd.read_csv(\"/content/gdrive/My Drive/DataICT1005/usage-of-mobile-devices-for-media-activities.csv\", encoding=\"iso-8859-1\")\n",
        "# Renaming the column name\n",
        "df.rename(columns={\"ever_used\": \"ever_used_percen\"}, inplace=True)"
      ],
      "execution_count": 0,
      "outputs": []
    },
    {
      "metadata": {
        "id": "cCFLiXDHXq5g",
        "colab_type": "text"
      },
      "cell_type": "markdown",
      "source": [
        "**How many columns and rows are there ?**\n",
        "\n",
        "---\n",
        "\n"
      ]
    },
    {
      "metadata": {
        "id": "qpTwKU9rkMbi",
        "colab_type": "code",
        "outputId": "ea1a2745-8bc6-46f8-b1a6-37a658c78fc5",
        "colab": {
          "base_uri": "https://localhost:8080/",
          "height": 34
        }
      },
      "cell_type": "code",
      "source": [
        "df.shape"
      ],
      "execution_count": 0,
      "outputs": [
        {
          "output_type": "execute_result",
          "data": {
            "text/plain": [
              "(234, 5)"
            ]
          },
          "metadata": {
            "tags": []
          },
          "execution_count": 37
        }
      ]
    },
    {
      "metadata": {
        "id": "YCo6ItYaX03Y",
        "colab_type": "text"
      },
      "cell_type": "markdown",
      "source": [
        "**Elements of the table**\n",
        "\n",
        "---\n",
        "\n"
      ]
    },
    {
      "metadata": {
        "id": "Og4Ja3G9kQ78",
        "colab_type": "code",
        "colab": {}
      },
      "cell_type": "code",
      "source": [
        "df"
      ],
      "execution_count": 0,
      "outputs": []
    },
    {
      "metadata": {
        "id": "33pDhC-_X6lS",
        "colab_type": "text"
      },
      "cell_type": "markdown",
      "source": [
        "**What are the column names**\n",
        "\n",
        "---\n",
        "\n"
      ]
    },
    {
      "metadata": {
        "id": "k_pKnCwbkTbJ",
        "colab_type": "code",
        "outputId": "3ea02658-722f-4c51-a0ce-1ea643defeb2",
        "colab": {
          "base_uri": "https://localhost:8080/",
          "height": 34
        }
      },
      "cell_type": "code",
      "source": [
        "df.columns"
      ],
      "execution_count": 0,
      "outputs": [
        {
          "output_type": "execute_result",
          "data": {
            "text/plain": [
              "Index(['year', 'age', 'media_activity', 'sample_size', 'ever_used_percen'], dtype='object')"
            ]
          },
          "metadata": {
            "tags": []
          },
          "execution_count": 9
        }
      ]
    },
    {
      "metadata": {
        "id": "xTgzyBM5X_fc",
        "colab_type": "text"
      },
      "cell_type": "markdown",
      "source": [
        "**Variable Categorical & Numerical **\n",
        "\n",
        "---\n",
        "Year - Categorical: Ordinal\n",
        "\n",
        "Age - Categorical: Ordinal\n",
        "\n",
        "Media Activity - Categorical: Nominal\n",
        "\n",
        "Sample Size - Numerical: Discrete\n",
        "\n",
        "Ever Used Percen - Numerical: Discrete"
      ]
    },
    {
      "metadata": {
        "id": "7_OJh8cVkaAY",
        "colab_type": "code",
        "colab": {}
      },
      "cell_type": "code",
      "source": [
        "# Check the datatype of columns\n",
        "df.<column_name>.dtype"
      ],
      "execution_count": 0,
      "outputs": []
    },
    {
      "metadata": {
        "id": "gAHvDmTse_6P",
        "colab_type": "text"
      },
      "cell_type": "markdown",
      "source": [
        "# STEP 3: CLEANING OF DATA\n",
        "\n",
        "---\n",
        "\n"
      ]
    },
    {
      "metadata": {
        "id": "HSe0zdOFka0O",
        "colab_type": "code",
        "colab": {}
      },
      "cell_type": "code",
      "source": [
        "# Turn year and age into categorical\n",
        "df['year'] = df.year.astype('str')\n",
        "df['age'] = df.age.astype('str')\n",
        "\n",
        "# Formatting of data to change it to numeric\n",
        "df['sample_size'] = pd.to_numeric(df['sample_size'], errors='coerce')\n",
        "df['ever_used_percen'] = pd.to_numeric(df['ever_used_percen'], errors='coerce')\n",
        "\n",
        "# Get the count of the ever_used of the sample_size\n",
        "df['ever_used_count'] = (df['ever_used_percen'] / 100) * df['sample_size']\n",
        "df['ever_used_count'] = df['ever_used_count'].apply(np.floor)\n",
        "df['ever_used_count'] = pd.to_numeric(df['ever_used_count'], errors='coerce')"
      ],
      "execution_count": 0,
      "outputs": []
    },
    {
      "metadata": {
        "id": "ccYSqeNdfO2Y",
        "colab_type": "text"
      },
      "cell_type": "markdown",
      "source": [
        "**Summary Statistics**\n",
        "\n",
        "---\n",
        "\n"
      ]
    },
    {
      "metadata": {
        "id": "R5AIoVExknjT",
        "colab_type": "code",
        "outputId": "4546279c-a537-460e-8844-784184704b2c",
        "colab": {
          "base_uri": "https://localhost:8080/",
          "height": 297
        }
      },
      "cell_type": "code",
      "source": [
        "df.describe()"
      ],
      "execution_count": 0,
      "outputs": [
        {
          "output_type": "execute_result",
          "data": {
            "text/html": [
              "<div>\n",
              "<style scoped>\n",
              "    .dataframe tbody tr th:only-of-type {\n",
              "        vertical-align: middle;\n",
              "    }\n",
              "\n",
              "    .dataframe tbody tr th {\n",
              "        vertical-align: top;\n",
              "    }\n",
              "\n",
              "    .dataframe thead th {\n",
              "        text-align: right;\n",
              "    }\n",
              "</style>\n",
              "<table border=\"1\" class=\"dataframe\">\n",
              "  <thead>\n",
              "    <tr style=\"text-align: right;\">\n",
              "      <th></th>\n",
              "      <th>year</th>\n",
              "      <th>sample_size</th>\n",
              "      <th>ever_used_percen</th>\n",
              "      <th>ever_used_count</th>\n",
              "    </tr>\n",
              "  </thead>\n",
              "  <tbody>\n",
              "    <tr>\n",
              "      <th>count</th>\n",
              "      <td>234.000000</td>\n",
              "      <td>234.000000</td>\n",
              "      <td>234.000000</td>\n",
              "      <td>234.000000</td>\n",
              "    </tr>\n",
              "    <tr>\n",
              "      <th>mean</th>\n",
              "      <td>2014.000000</td>\n",
              "      <td>303.722222</td>\n",
              "      <td>14.809402</td>\n",
              "      <td>46.145299</td>\n",
              "    </tr>\n",
              "    <tr>\n",
              "      <th>std</th>\n",
              "      <td>0.818247</td>\n",
              "      <td>103.917782</td>\n",
              "      <td>21.844041</td>\n",
              "      <td>74.717639</td>\n",
              "    </tr>\n",
              "    <tr>\n",
              "      <th>min</th>\n",
              "      <td>2013.000000</td>\n",
              "      <td>141.000000</td>\n",
              "      <td>0.000000</td>\n",
              "      <td>0.000000</td>\n",
              "    </tr>\n",
              "    <tr>\n",
              "      <th>25%</th>\n",
              "      <td>2013.000000</td>\n",
              "      <td>179.000000</td>\n",
              "      <td>1.600000</td>\n",
              "      <td>4.250000</td>\n",
              "    </tr>\n",
              "    <tr>\n",
              "      <th>50%</th>\n",
              "      <td>2014.000000</td>\n",
              "      <td>346.500000</td>\n",
              "      <td>5.900000</td>\n",
              "      <td>16.500000</td>\n",
              "    </tr>\n",
              "    <tr>\n",
              "      <th>75%</th>\n",
              "      <td>2015.000000</td>\n",
              "      <td>395.000000</td>\n",
              "      <td>17.175000</td>\n",
              "      <td>48.750000</td>\n",
              "    </tr>\n",
              "    <tr>\n",
              "      <th>max</th>\n",
              "      <td>2015.000000</td>\n",
              "      <td>422.000000</td>\n",
              "      <td>96.200000</td>\n",
              "      <td>379.000000</td>\n",
              "    </tr>\n",
              "  </tbody>\n",
              "</table>\n",
              "</div>"
            ],
            "text/plain": [
              "              year  sample_size  ever_used_percen  ever_used_count\n",
              "count   234.000000   234.000000        234.000000       234.000000\n",
              "mean   2014.000000   303.722222         14.809402        46.145299\n",
              "std       0.818247   103.917782         21.844041        74.717639\n",
              "min    2013.000000   141.000000          0.000000         0.000000\n",
              "25%    2013.000000   179.000000          1.600000         4.250000\n",
              "50%    2014.000000   346.500000          5.900000        16.500000\n",
              "75%    2015.000000   395.000000         17.175000        48.750000\n",
              "max    2015.000000   422.000000         96.200000       379.000000"
            ]
          },
          "metadata": {
            "tags": []
          },
          "execution_count": 12
        }
      ]
    },
    {
      "metadata": {
        "id": "1Dcxk0bgfZq7",
        "colab_type": "text"
      },
      "cell_type": "markdown",
      "source": [
        "# STEP 4: PLOTTING OF DATA\n",
        "\n",
        "---\n",
        "\n"
      ]
    },
    {
      "metadata": {
        "id": "vfVORq-Vkqf-",
        "colab_type": "code",
        "colab": {}
      },
      "cell_type": "code",
      "source": [
        "import matplotlib.pyplot as plt"
      ],
      "execution_count": 0,
      "outputs": []
    },
    {
      "metadata": {
        "id": "olPcTzTtfpi9",
        "colab_type": "text"
      },
      "cell_type": "markdown",
      "source": [
        "## Quantitative Variables\n",
        "\n",
        "---\n",
        "\n"
      ]
    },
    {
      "metadata": {
        "id": "d4dcqreofeaz",
        "colab_type": "text"
      },
      "cell_type": "markdown",
      "source": [
        "**Histogram**\n",
        "\n",
        "---\n",
        "\n"
      ]
    },
    {
      "metadata": {
        "id": "W7SstfCekwaX",
        "colab_type": "code",
        "outputId": "8b20ef15-6be8-4c07-c8cf-a6e1d7be7711",
        "colab": {
          "base_uri": "https://localhost:8080/",
          "height": 878
        }
      },
      "cell_type": "code",
      "source": [
        "hist_plot = df.hist(column=['sample_size', 'ever_used_percen','ever_used_count'], figsize=(20,15))"
      ],
      "execution_count": 0,
      "outputs": [
        {
          "output_type": "display_data",
          "data": {
            "image/png": "[encoded data removed]",
            "text/plain": [
              "<Figure size 1440x1080 with 4 Axes>"
            ]
          },
          "metadata": {
            "tags": []
          }
        }
      ]
    },
    {
      "metadata": {
        "id": "WTqfr1_1fg6C",
        "colab_type": "text"
      },
      "cell_type": "markdown",
      "source": [
        "**Boxplot**\n",
        "\n",
        "---\n",
        "\n"
      ]
    },
    {
      "metadata": {
        "id": "xG7pbWsLkx55",
        "colab_type": "code",
        "outputId": "d3426b52-ea0f-43f1-81c7-8bf90e90a755",
        "colab": {
          "base_uri": "https://localhost:8080/",
          "height": 592
        }
      },
      "cell_type": "code",
      "source": [
        "box_plot = df.boxplot(vert=False, column=['sample_size', 'ever_used_percen','ever_used_count'], figsize=(20,10))"
      ],
      "execution_count": 0,
      "outputs": [
        {
          "output_type": "display_data",
          "data": {
            "image/png": "[encoded data removed]",
            "text/plain": [
              "<Figure size 1440x720 with 1 Axes>"
            ]
          },
          "metadata": {
            "tags": []
          }
        }
      ]
    },
    {
      "metadata": {
        "id": "c1eWflZBfk2k",
        "colab_type": "text"
      },
      "cell_type": "markdown",
      "source": [
        "## Categorical Plotting\n",
        "\n",
        "---\n",
        "\n"
      ]
    },
    {
      "metadata": {
        "id": "Jr0Lr2j7f2nr",
        "colab_type": "text"
      },
      "cell_type": "markdown",
      "source": [
        "**Bar Chart**\n",
        "\n",
        "---\n",
        "\n",
        "1. First bar chart shows the total count of mobile devices on each media activities over the years\n",
        "\n",
        "\n",
        "*   Ever Used Count as the X-Axis\n",
        "*   Media Activity as Y-Axis\n",
        "\n",
        "\n",
        "2. Second bar chart shows the total count of mobile devices on media activities every year\n",
        "\n",
        "\n",
        "*   Year as the X-Axis\n",
        "*   Ever Used Count as the Y-Axis\n",
        "\n",
        "\n",
        "3. Last bar chart shows the total count of mobile devices on meadia activities by Age over the years \n",
        "\n",
        "\n",
        "*   Age as the X-Axis\n",
        "*   Ever Used Count as the Y-Axis\n",
        "\n"
      ]
    },
    {
      "metadata": {
        "id": "08JUQ-BVznt7",
        "colab_type": "code",
        "outputId": "402dc97f-b7d6-4c06-e71a-7c57ab1f5172",
        "colab": {
          "base_uri": "https://localhost:8080/",
          "height": 677
        }
      },
      "cell_type": "code",
      "source": [
        "x = df['ever_used_count'] # x-axis for frequency\n",
        "year = df['year'] # y-axis for the year\n",
        "media = df['media_activity'] # y-axis for the media\n",
        "age = df['age'] # y-axis for the age\n",
        "\n",
        "fig, axs = plt.subplots(1, 3, figsize=(25, 10)) # create the subplots array with lenth of 3\n",
        "axs[0].barh(media, x) # construct the honrizontal bar chart\n",
        "axs[0].set_xlabel('Frequency') # specify the x axis label\n",
        "axs[0].set_ylabel('Media Activity') # specify the y-axis label\n",
        "axs[0].set_title('Usage of Media Activities by Count over the Years') # specify the title of the graph\n",
        "\n",
        "axs[1].bar(year, x) # construct the bar chart\n",
        "axs[1].set_xlabel('Year') # specify the x axis label \n",
        "axs[1].set_ylabel('Frequency') # specify the y axis label\n",
        "axs[1].set_title('Usage of Media Activities every Year') \n",
        "\n",
        "axs[2].bar(age, x)\n",
        "axs[2].set_xlabel('Age')\n",
        "axs[2].set_ylabel('Frequency')\n",
        "axs[2].set_title('Usage of Media Activities by Age over the Years')\n",
        "\n",
        "fig.suptitle('Categorical Plotting')\n",
        "plt.show()"
      ],
      "execution_count": 0,
      "outputs": [
        {
          "output_type": "display_data",
          "data": {
            "image/png": "[encoded data removed]",
            "text/plain": [
              "<Figure size 1800x720 with 3 Axes>"
            ]
          },
          "metadata": {
            "tags": []
          }
        }
      ]
    },
    {
      "metadata": {
        "id": "kA4sb5gYjt14",
        "colab_type": "text"
      },
      "cell_type": "markdown",
      "source": [
        "# STEP 5: SELECTORS AND GROUPING\n",
        "\n",
        "---\n",
        "\n"
      ]
    },
    {
      "metadata": {
        "id": "RvhTg-Ikjxe3",
        "colab_type": "text"
      },
      "cell_type": "markdown",
      "source": [
        "**Groupby**\n",
        "\n",
        "---\n",
        "\n"
      ]
    },
    {
      "metadata": {
        "id": "IaXx1CQi7Wya",
        "colab_type": "code",
        "colab": {}
      },
      "cell_type": "code",
      "source": [
        "df.groupby(['age', 'year'])['ever_used_count'].sum()"
      ],
      "execution_count": 0,
      "outputs": []
    },
    {
      "metadata": {
        "id": "-uL182FUj4xv",
        "colab_type": "text"
      },
      "cell_type": "markdown",
      "source": [
        "**Bar Chart**\n",
        "\n",
        "---\n",
        "\n",
        "The bar chart plotted shows the total count of mobile device usage every year by the age of the dataset. \n",
        "\n",
        "The purpose is to find in each year, what is the total usage in different age group.\n"
      ]
    },
    {
      "metadata": {
        "id": "ehiwE8aE_614",
        "colab_type": "code",
        "outputId": "095c5243-0bfc-4252-8af6-56c37e72448a",
        "colab": {
          "base_uri": "https://localhost:8080/",
          "height": 620
        }
      },
      "cell_type": "code",
      "source": [
        "age = df['age'].unique() # get all the age\n",
        "\n",
        "year2013 = df.loc[df['year'].isin(['2013']) & df['ever_used_count'] > 0].groupby(['age'])['ever_used_count'].sum().tolist() # getting the sum of the count where it is more than 0 and year = 2013 to list\n",
        "year2014 = df.loc[df['year'].isin(['2014']) & df['ever_used_count'] > 0].groupby(['age'])['ever_used_count'].sum().tolist() # getting the sum of the count where it is more than 0 and year = 2014 to list\n",
        "year2015 = df.loc[df['year'].isin(['2015']) & df['ever_used_count'] > 0].groupby(['age'])['ever_used_count'].sum().tolist() # getting the sum of the count where it is more than 0 and year = 2015 to list\n",
        "\n",
        "ind = np.arange(len(age))  # the x locations for the groups\n",
        "width = 0.25  # the width of the bars\n",
        "\n",
        "fig, ax = plt.subplots(figsize=(25, 10))\n",
        "rects1 = ax.bar(ind - width/3 - 0.1, year2013, width, color='SkyBlue', label='2013') # populate the axis for year 2013\n",
        "rects2 = ax.bar(ind + width/3, year2014, width, color='IndianRed', label='2014') # populate the axis for year 2014\n",
        "rects2 = ax.bar(ind + width/3 + width + 0.02, year2015, width, color='Yellow', label='2015') # populate the axis for year 2015\n",
        "\n",
        "# Add some text for labels, title and custom x-axis tick labels, etc.\n",
        "ax.set_ylabel('Frequency') # specify the y - axis\n",
        "ax.set_title('Usage of Media Content every Year by Age') # set the title\n",
        "ax.set_xticks(ind) # indicate the size of the x axis\n",
        "ax.set_xticklabels(age) # set the values of the x axis\n",
        "ax.set_xlabel('Age') # specify the age\n",
        "ax.legend() # display the legend\n",
        "plt.show() # show the graph"
      ],
      "execution_count": 0,
      "outputs": [
        {
          "output_type": "display_data",
          "data": {
            "image/png": "[encoded data removed]",
            "text/plain": [
              "<Figure size 1800x720 with 1 Axes>"
            ]
          },
          "metadata": {
            "tags": []
          }
        }
      ]
    },
    {
      "metadata": {
        "id": "r8Z15Gh5l3M3",
        "colab_type": "text"
      },
      "cell_type": "markdown",
      "source": [
        "**Correlation and Final Plot**\n",
        "\n",
        "---"
      ]
    },
    {
      "metadata": {
        "id": "0P06_6ohOlHd",
        "colab_type": "code",
        "outputId": "2ea6922d-d5f3-428c-8e4c-0976151eba92",
        "colab": {
          "base_uri": "https://localhost:8080/",
          "height": 142
        }
      },
      "cell_type": "code",
      "source": [
        "df.corr()"
      ],
      "execution_count": 0,
      "outputs": [
        {
          "output_type": "execute_result",
          "data": {
            "text/html": [
              "<div>\n",
              "<style scoped>\n",
              "    .dataframe tbody tr th:only-of-type {\n",
              "        vertical-align: middle;\n",
              "    }\n",
              "\n",
              "    .dataframe tbody tr th {\n",
              "        vertical-align: top;\n",
              "    }\n",
              "\n",
              "    .dataframe thead th {\n",
              "        text-align: right;\n",
              "    }\n",
              "</style>\n",
              "<table border=\"1\" class=\"dataframe\">\n",
              "  <thead>\n",
              "    <tr style=\"text-align: right;\">\n",
              "      <th></th>\n",
              "      <th>sample_size</th>\n",
              "      <th>ever_used_percen</th>\n",
              "      <th>ever_used_count</th>\n",
              "    </tr>\n",
              "  </thead>\n",
              "  <tbody>\n",
              "    <tr>\n",
              "      <th>sample_size</th>\n",
              "      <td>1.000000</td>\n",
              "      <td>0.072423</td>\n",
              "      <td>0.256546</td>\n",
              "    </tr>\n",
              "    <tr>\n",
              "      <th>ever_used_percen</th>\n",
              "      <td>0.072423</td>\n",
              "      <td>1.000000</td>\n",
              "      <td>0.936450</td>\n",
              "    </tr>\n",
              "    <tr>\n",
              "      <th>ever_used_count</th>\n",
              "      <td>0.256546</td>\n",
              "      <td>0.936450</td>\n",
              "      <td>1.000000</td>\n",
              "    </tr>\n",
              "  </tbody>\n",
              "</table>\n",
              "</div>"
            ],
            "text/plain": [
              "                  sample_size  ever_used_percen  ever_used_count\n",
              "sample_size          1.000000          0.072423         0.256546\n",
              "ever_used_percen     0.072423          1.000000         0.936450\n",
              "ever_used_count      0.256546          0.936450         1.000000"
            ]
          },
          "metadata": {
            "tags": []
          },
          "execution_count": 265
        }
      ]
    },
    {
      "metadata": {
        "id": "5IeOrF3gkNoF",
        "colab_type": "text"
      },
      "cell_type": "markdown",
      "source": [
        "**Correlations to report**:\n",
        "\n",
        "The sample size refers to the number of people using mobile devices and the ever_used_count refers to how many people in that sample size has used these mobile devices to access media activites. The ever_used_percentage refers to how many people have used these mobile devices to access media activites out of the total number of people with a mobile device.\n",
        "\n",
        "In this table, we can see that when the sample size increase, the ever_used_count will also increase, but not at an equal rate as the sample size. This is because when more people have access to mobile devices, it is natural that the number of people that use the mobile devices for media activities will increase. We can also see that the ever_used_percentage also increase but at a significantly lower rate. This is due to the fact that it is a percentage and it is based on the number of people using mobile devices for media activities and the total sample size.\n",
        "\n",
        "Lastly, we can see in the table that when the percentage increase, the ever_used_count will also increase at a similar rate due to the percentage representing the number of ever_used_count out of the sample size."
      ]
    }
  ]
}